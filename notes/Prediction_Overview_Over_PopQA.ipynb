{
 "cells": [
  {
   "cell_type": "code",
   "execution_count": 1,
   "id": "573c5b35",
   "metadata": {},
   "outputs": [],
   "source": [
    "import sys"
   ]
  },
  {
   "cell_type": "code",
   "execution_count": 2,
   "id": "ead3d934",
   "metadata": {},
   "outputs": [],
   "source": [
    "# if \"../src/\" not in sys.path:\n",
    "#     sys.path.insert(0, \"../src\")"
   ]
  },
  {
   "cell_type": "code",
   "execution_count": 3,
   "metadata": {},
   "outputs": [],
   "source": [
    "import os\n",
    "import json\n",
    "import copy\n",
    "\n",
    "import plotly.express as px\n",
    "import numpy as np\n",
    "import pandas as pd\n",
    "\n",
    "# from atlas.evaluation import average_substring_accuracy"
   ]
  },
  {
   "cell_type": "code",
   "execution_count": 4,
   "metadata": {},
   "outputs": [],
   "source": [
    "data_path = \"/mimer/NOBACKUP/groups/snic2022-22-1003/APP/qa-retriever/data/atlas/popqa_data/test.jsonl\"\n",
    "experiment_path = \"/mimer/NOBACKUP/groups/snic2022-22-1003/APP/qa-retriever/experiments/evaluate-popqa-full-size-base-ctx-5/evaluate-popqa-full-size-base-ctx-5/test-step-0.jsonl\""
   ]
  },
  {
   "cell_type": "code",
   "execution_count": 5,
   "id": "d571f3d5",
   "metadata": {},
   "outputs": [
    {
     "name": "stdout",
     "output_type": "stream",
     "text": [
      "Number of generated responses #13025\n",
      "Number of empty generated responses #1242\n"
     ]
    }
   ],
   "source": [
    "data = []\n",
    "with open(data_path, \"r\", encoding=\"utf-8\") as f:\n",
    "    for line in f:\n",
    "        if line.strip():\n",
    "            data.append(json.loads(line))\n",
    "\n",
    "\n",
    "output = []\n",
    "empty_ouput = []\n",
    "with open(experiment_path, \"r\", encoding=\"utf-8\") as f:\n",
    "    for line in f:\n",
    "        if line.strip():\n",
    "            out = json.loads(line)\n",
    "            question = out[\"query\"].replace(\"question: \", \"\").replace(\" answer: <extra_id_0>\", \"\").strip()\n",
    "\n",
    "            row = copy.deepcopy([item for item in data if item.get(\"question\") == question])\n",
    "            if len(row) > 0:\n",
    "                row = row[0]\n",
    "                row.update(out)\n",
    "\n",
    "            if row[\"generation\"].strip() and len(row[\"generation\"]) > 1:\n",
    "                output.append(row)\n",
    "            else:\n",
    "                empty_ouput.append(row)\n",
    "\n",
    "print(f\"Number of generated responses #{len(output)}\")\n",
    "print(f\"Number of empty generated responses #{len(empty_ouput)}\")"
   ]
  },
  {
   "cell_type": "code",
   "execution_count": 6,
   "id": "4fe4dc45",
   "metadata": {},
   "outputs": [
    {
     "name": "stdout",
     "output_type": "stream",
     "text": [
      "Unique props: ['screenwriter', 'producer', 'religion', 'sport', 'mother', 'capital of', 'place of birth', 'composer', 'color', 'capital', 'father', 'occupation', 'country', 'author', 'director', 'genre']\n"
     ]
    }
   ],
   "source": [
    "print(f\"Unique props: {list(set([r['triplet']['prop'] for r in data]))}\")"
   ]
  },
  {
   "cell_type": "code",
   "execution_count": 7,
   "id": "ad4d7e3a",
   "metadata": {},
   "outputs": [
    {
     "data": {
      "text/html": [
       "<div>\n",
       "<style scoped>\n",
       "    .dataframe tbody tr th:only-of-type {\n",
       "        vertical-align: middle;\n",
       "    }\n",
       "\n",
       "    .dataframe tbody tr th {\n",
       "        vertical-align: top;\n",
       "    }\n",
       "\n",
       "    .dataframe thead th {\n",
       "        text-align: right;\n",
       "    }\n",
       "</style>\n",
       "<table border=\"1\" class=\"dataframe\">\n",
       "  <thead>\n",
       "    <tr style=\"text-align: right;\">\n",
       "      <th></th>\n",
       "      <th>subj</th>\n",
       "      <th>prop</th>\n",
       "      <th>obj</th>\n",
       "      <th>s_pop</th>\n",
       "      <th>o_pop</th>\n",
       "    </tr>\n",
       "  </thead>\n",
       "  <tbody>\n",
       "    <tr>\n",
       "      <th>0</th>\n",
       "      <td>Kathy Saltzman</td>\n",
       "      <td>occupation</td>\n",
       "      <td>politician</td>\n",
       "      <td>127</td>\n",
       "      <td>25692</td>\n",
       "    </tr>\n",
       "    <tr>\n",
       "      <th>1</th>\n",
       "      <td>Leona Detiège</td>\n",
       "      <td>occupation</td>\n",
       "      <td>politician</td>\n",
       "      <td>124</td>\n",
       "      <td>25692</td>\n",
       "    </tr>\n",
       "    <tr>\n",
       "      <th>2</th>\n",
       "      <td>Jacob Kraemer</td>\n",
       "      <td>occupation</td>\n",
       "      <td>actor</td>\n",
       "      <td>230</td>\n",
       "      <td>81374</td>\n",
       "    </tr>\n",
       "    <tr>\n",
       "      <th>3</th>\n",
       "      <td>Javier Alva Orlandini</td>\n",
       "      <td>occupation</td>\n",
       "      <td>politician</td>\n",
       "      <td>169</td>\n",
       "      <td>25692</td>\n",
       "    </tr>\n",
       "    <tr>\n",
       "      <th>4</th>\n",
       "      <td>Sachiko Kokubu</td>\n",
       "      <td>occupation</td>\n",
       "      <td>actor</td>\n",
       "      <td>115</td>\n",
       "      <td>81374</td>\n",
       "    </tr>\n",
       "  </tbody>\n",
       "</table>\n",
       "</div>"
      ],
      "text/plain": [
       "                    subj        prop         obj  s_pop  o_pop\n",
       "0         Kathy Saltzman  occupation  politician    127  25692\n",
       "1          Leona Detiège  occupation  politician    124  25692\n",
       "2          Jacob Kraemer  occupation       actor    230  81374\n",
       "3  Javier Alva Orlandini  occupation  politician    169  25692\n",
       "4         Sachiko Kokubu  occupation       actor    115  81374"
      ]
     },
     "execution_count": 7,
     "metadata": {},
     "output_type": "execute_result"
    }
   ],
   "source": [
    "output_views = pd.DataFrame([\n",
    "    {\n",
    "        \"subj\": row[\"triplet\"][\"subj\"],\n",
    "        \"prop\": row[\"triplet\"][\"prop\"],\n",
    "        \"obj\": row[\"triplet\"][\"obj\"],\n",
    "        \"s_pop\": int(row[\"views\"][\"s_pop\"]), \n",
    "        \"o_pop\": int(row[\"views\"][\"o_pop\"])\n",
    "\n",
    "    } \n",
    "    for row in output\n",
    "])\n",
    "\n",
    "output_views.head()"
   ]
  },
  {
   "cell_type": "code",
   "execution_count": 8,
   "id": "64d771c3",
   "metadata": {},
   "outputs": [
    {
     "data": {
      "text/html": [
       "<div>\n",
       "<style scoped>\n",
       "    .dataframe tbody tr th:only-of-type {\n",
       "        vertical-align: middle;\n",
       "    }\n",
       "\n",
       "    .dataframe tbody tr th {\n",
       "        vertical-align: top;\n",
       "    }\n",
       "\n",
       "    .dataframe thead th {\n",
       "        text-align: right;\n",
       "    }\n",
       "</style>\n",
       "<table border=\"1\" class=\"dataframe\">\n",
       "  <thead>\n",
       "    <tr style=\"text-align: right;\">\n",
       "      <th></th>\n",
       "      <th>subj</th>\n",
       "      <th>prop</th>\n",
       "      <th>obj</th>\n",
       "      <th>s_pop</th>\n",
       "      <th>o_pop</th>\n",
       "    </tr>\n",
       "  </thead>\n",
       "  <tbody>\n",
       "    <tr>\n",
       "      <th>0</th>\n",
       "      <td>Thanasis Pafilis</td>\n",
       "      <td>occupation</td>\n",
       "      <td>politician</td>\n",
       "      <td>285</td>\n",
       "      <td>25692</td>\n",
       "    </tr>\n",
       "    <tr>\n",
       "      <th>1</th>\n",
       "      <td>Javad Maroufi</td>\n",
       "      <td>occupation</td>\n",
       "      <td>composer</td>\n",
       "      <td>279</td>\n",
       "      <td>28389</td>\n",
       "    </tr>\n",
       "    <tr>\n",
       "      <th>2</th>\n",
       "      <td>Min</td>\n",
       "      <td>occupation</td>\n",
       "      <td>actor</td>\n",
       "      <td>1440</td>\n",
       "      <td>81374</td>\n",
       "    </tr>\n",
       "    <tr>\n",
       "      <th>3</th>\n",
       "      <td>Atsushi Kaneko</td>\n",
       "      <td>occupation</td>\n",
       "      <td>mangaka</td>\n",
       "      <td>387</td>\n",
       "      <td>7223</td>\n",
       "    </tr>\n",
       "    <tr>\n",
       "      <th>4</th>\n",
       "      <td>Sayaka Ichii</td>\n",
       "      <td>occupation</td>\n",
       "      <td>actor</td>\n",
       "      <td>337</td>\n",
       "      <td>81374</td>\n",
       "    </tr>\n",
       "  </tbody>\n",
       "</table>\n",
       "</div>"
      ],
      "text/plain": [
       "               subj        prop         obj  s_pop  o_pop\n",
       "0  Thanasis Pafilis  occupation  politician    285  25692\n",
       "1     Javad Maroufi  occupation    composer    279  28389\n",
       "2               Min  occupation       actor   1440  81374\n",
       "3    Atsushi Kaneko  occupation     mangaka    387   7223\n",
       "4      Sayaka Ichii  occupation       actor    337  81374"
      ]
     },
     "execution_count": 8,
     "metadata": {},
     "output_type": "execute_result"
    }
   ],
   "source": [
    "empty_ouput_views = pd.DataFrame([\n",
    "    {\n",
    "        \"subj\": row[\"triplet\"][\"subj\"],\n",
    "        \"prop\": row[\"triplet\"][\"prop\"],\n",
    "        \"obj\": row[\"triplet\"][\"obj\"],\n",
    "        \"s_pop\": int(row[\"views\"][\"s_pop\"]), \n",
    "        \"o_pop\": int(row[\"views\"][\"o_pop\"])\n",
    "    } \n",
    "    for row in empty_ouput\n",
    "])\n",
    "empty_ouput_views.head()"
   ]
  },
  {
   "cell_type": "code",
   "execution_count": 9,
   "id": "57ddbdf4",
   "metadata": {},
   "outputs": [],
   "source": [
    "def average_substring_accuracy(predictions, ground_truths_list):\n",
    "    if isinstance(predictions, str):\n",
    "        predictions = [predictions]\n",
    "        ground_truths_list = [ground_truths_list]\n",
    "\n",
    "    total_accuracy = 0.0\n",
    "    \n",
    "    # Ensure both lists have the same length\n",
    "    assert len(predictions) == len(ground_truths_list), \"Length of predictions and ground_truths_list must be the same.\"\n",
    "    \n",
    "    for prediction, ground_truths in zip(predictions, ground_truths_list):\n",
    "        is_correct = 0\n",
    "        for ground_truth in ground_truths:\n",
    "            if prediction in ground_truth:\n",
    "                is_correct = 1\n",
    "                break  # Exit loop if a match is found\n",
    "            \n",
    "        total_accuracy += is_correct\n",
    "    \n",
    "    # Calculate average accuracy across all inputs\n",
    "    average_accuracy = total_accuracy / len(predictions)\n",
    "    return average_accuracy"
   ]
  },
  {
   "cell_type": "code",
   "execution_count": 12,
   "id": "bc649ebc",
   "metadata": {},
   "outputs": [
    {
     "name": "stdout",
     "output_type": "stream",
     "text": [
      "Overal SubAcc: 0.08614203454894434\n"
     ]
    }
   ],
   "source": [
    "acc_list = []\n",
    "\n",
    "for i, row in enumerate(output):\n",
    "\n",
    "    ground_truths = row[\"answers\"]\n",
    "    prediction = row[\"generation\"].strip()\n",
    "    prediction = prediction[:-1] if prediction.endswith(\".\") else prediction\n",
    "\n",
    "    acc_list.append(average_substring_accuracy(prediction, ground_truths))\n",
    "\n",
    "print(f\"Overal SubAcc: {sum(acc_list) / len(acc_list)}\")"
   ]
  },
  {
   "cell_type": "code",
   "execution_count": 13,
   "id": "09aaab82",
   "metadata": {},
   "outputs": [
    {
     "name": "stdout",
     "output_type": "stream",
     "text": [
      "Prop list: ['occupation', 'place of birth', 'genre', 'father', 'country', 'producer', 'director', 'capital of', 'screenwriter', 'composer', 'color', 'religion', 'sport', 'author', 'mother', 'capital']\n"
     ]
    }
   ],
   "source": [
    "output_by_prop = {}\n",
    "\n",
    "for i, row in enumerate(output):\n",
    "    prop = row[\"triplet\"][\"prop\"]\n",
    "\n",
    "    if prop not in output_by_prop:\n",
    "        output_by_prop[prop] = []\n",
    "\n",
    "\n",
    "    ground_truths = row[\"answers\"]\n",
    "    prediction = row[\"generation\"].strip()\n",
    "    prediction = prediction[:-1] if prediction.endswith(\".\") else prediction\n",
    "\n",
    "    output_by_prop[prop].append({\n",
    "        \"ground_truths\": ground_truths,\n",
    "        \"prediction\": prediction,\n",
    "        \"s_pop\": int(row[\"views\"][\"s_pop\"]), \n",
    "        \"o_pop\": int(row[\"views\"][\"o_pop\"]),\n",
    "        \"acc\": average_substring_accuracy(prediction, ground_truths)\n",
    "    })\n",
    "\n",
    "print(f\"Prop list: {list(output_by_prop.keys())}\")"
   ]
  },
  {
   "cell_type": "code",
   "execution_count": 14,
   "id": "7a19c272",
   "metadata": {},
   "outputs": [
    {
     "name": "stdout",
     "output_type": "stream",
     "text": [
      "SubAcc over Popularity (Overal):\n",
      "============================================================\n",
      "SubAccuary: occupation ==> 0.0311284046692607\n",
      "SubAccuary: place of birth ==> 0.08043875685557587\n",
      "SubAccuary: genre ==> 0.03550295857988166\n",
      "SubAccuary: father ==> 0.15182186234817813\n",
      "SubAccuary: country ==> 0.22098569157392686\n",
      "SubAccuary: producer ==> 0.037526059763724806\n",
      "SubAccuary: director ==> 0.06707946336429309\n",
      "SubAccuary: capital of ==> 0.37398373983739835\n",
      "SubAccuary: screenwriter ==> 0.03324937027707808\n",
      "SubAccuary: composer ==> 0.08351893095768374\n",
      "SubAccuary: color ==> 0.0\n",
      "SubAccuary: religion ==> 0.10855263157894737\n",
      "SubAccuary: sport ==> 0.1062618595825427\n",
      "SubAccuary: author ==> 0.13026521060842433\n",
      "SubAccuary: mother ==> 0.11046511627906977\n",
      "SubAccuary: capital ==> 0.2052313883299799\n"
     ]
    }
   ],
   "source": [
    "print(\"SubAcc over Popularity (Overal):\")\n",
    "print(\"===\" * 20)\n",
    "for prop in output_by_prop:\n",
    "    score = [r[\"acc\"] for r in output_by_prop[prop]]\n",
    "    if len(score) > 0:\n",
    "        print(f\"SubAccuary: {prop} ==> {sum(score)/len(score)}\")"
   ]
  },
  {
   "cell_type": "code",
   "execution_count": 15,
   "id": "d7dd6578",
   "metadata": {},
   "outputs": [
    {
     "name": "stdout",
     "output_type": "stream",
     "text": [
      "SubAcc over Popularity (100K):\n",
      "============================================================\n",
      "SubAccuary: occupation ==> 0.0\n",
      "SubAccuary: place of birth ==> 0.0967741935483871\n",
      "SubAccuary: genre ==> 0.018404907975460124\n",
      "SubAccuary: father ==> 0.2727272727272727\n",
      "SubAccuary: country ==> 0.22168284789644013\n",
      "SubAccuary: producer ==> 0.0297029702970297\n",
      "SubAccuary: director ==> 0.10576923076923077\n",
      "SubAccuary: capital of ==> 0.559322033898305\n",
      "SubAccuary: screenwriter ==> 0.0\n",
      "SubAccuary: composer ==> 0.05263157894736842\n",
      "SubAccuary: religion ==> 0.08333333333333333\n",
      "SubAccuary: sport ==> 0.04071246819338423\n",
      "SubAccuary: author ==> 0.16071428571428573\n",
      "SubAccuary: mother ==> 0.2\n",
      "SubAccuary: capital ==> 0.22807017543859648\n"
     ]
    }
   ],
   "source": [
    "print(\"SubAcc over Popularity (100K):\")\n",
    "print(\"===\" * 20)\n",
    "for prop in output_by_prop:\n",
    "    score = [r[\"acc\"] for r in output_by_prop[prop] if r[\"o_pop\"] > 100_000]\n",
    "    if len(score) > 0:\n",
    "        print(f\"SubAccuary: {prop} ==> {sum(score)/len(score)}\")"
   ]
  },
  {
   "cell_type": "code",
   "execution_count": null,
   "id": "446f9cc6",
   "metadata": {},
   "outputs": [],
   "source": []
  }
 ],
 "metadata": {
  "kernelspec": {
   "display_name": "venv",
   "language": "python",
   "name": "python3"
  },
  "language_info": {
   "codemirror_mode": {
    "name": "ipython",
    "version": 3
   },
   "file_extension": ".py",
   "mimetype": "text/x-python",
   "name": "python",
   "nbconvert_exporter": "python",
   "pygments_lexer": "ipython3",
   "version": "3.8.6"
  },
  "vscode": {
   "interpreter": {
    "hash": "84dece35a1165be7d4f999a109abf08976b006d45415c15eeb5beb5f494725e6"
   }
  }
 },
 "nbformat": 4,
 "nbformat_minor": 5
}
